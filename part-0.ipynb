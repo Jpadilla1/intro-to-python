{
 "metadata": {
  "kernelspec": {
   "codemirror_mode": {
    "name": "ipython",
    "version": 2
   },
   "display_name": "IPython (Python 2)",
   "language": "python",
   "name": "python2"
  },
  "name": "",
  "signature": "sha256:7e77fab303afbbd6ade7a9ab434bf219c12be6e73b5182b90eacad402e5e1b61"
 },
 "nbformat": 3,
 "nbformat_minor": 0,
 "worksheets": [
  {
   "cells": [
    {
     "cell_type": "heading",
     "level": 1,
     "metadata": {},
     "source": [
      "Setup (before the workshop)"
     ]
    },
    {
     "cell_type": "markdown",
     "metadata": {},
     "source": [
      "Please complete the instructions on this page before you arrive at the Intro to Python workshop.\n",
      "\n",
      "Stuck or need help? [Ask for help by describing your error here](https://github.com/pythonsd/intro-to-python/issues/new), in as much detail as possible. Or ask for help through [SD Python](http://www.meetup.com/pythonsd/), [SD Pyladies](http://www.meetup.com/sd-pyladies/), or [IE Pyladies](http://www.meetup.com/iepyladies/)."
     ]
    },
    {
     "cell_type": "markdown",
     "metadata": {},
     "source": [
      "> These instructions are based on tutorials by [Geek Girls Carrots](http://django.carrots.pl/) and [DjangoGirls](http://tutorial.djangogirls.org/python_installation/README.html)."
     ]
    },
    {
     "cell_type": "heading",
     "level": 2,
     "metadata": {},
     "source": [
      "Windows"
     ]
    },
    {
     "cell_type": "markdown",
     "metadata": {},
     "source": [
      "You can download Python for Windows from the website https://www.python.org/download/releases/3.4.1/. After downloading the *.msi file, you should run it (double-click on it) and follow the instructions there. It is important to remember the path (the directory) where you installed Python. It will be needed later!"
     ]
    },
    {
     "cell_type": "heading",
     "level": 2,
     "metadata": {},
     "source": [
      "Linux"
     ]
    },
    {
     "cell_type": "markdown",
     "metadata": {},
     "source": [
      "It is very likely that you already have Python installed out of the box. To check if you have it installed (and which version it is), open a console and type the following command:\n",
      "\n",
      "```\n",
      "$ python3 --version\n",
      "Python 3.4.1\n",
      "```\n",
      "\n",
      "If you don't have Python installed or if you have a version older then 3.4 , you can install version 3.4 as follows:"
     ]
    },
    {
     "cell_type": "heading",
     "level": 4,
     "metadata": {},
     "source": [
      "Ubuntu"
     ]
    },
    {
     "cell_type": "markdown",
     "metadata": {},
     "source": [
      "Type this command into your console:\n",
      "\n",
      "```\n",
      "sudo apt-get install python3.4\n",
      "```"
     ]
    },
    {
     "cell_type": "heading",
     "level": 4,
     "metadata": {},
     "source": [
      "Fedora"
     ]
    },
    {
     "cell_type": "markdown",
     "metadata": {},
     "source": [
      "Use this command in your console:\n",
      "\n",
      "```\n",
      "sudo yum install python3.4\n",
      "```"
     ]
    },
    {
     "cell_type": "heading",
     "level": 2,
     "metadata": {},
     "source": [
      "OS X"
     ]
    },
    {
     "cell_type": "markdown",
     "metadata": {},
     "source": [
      "You need to go to the website https://www.python.org/downloads/release/python-341/ and download the Python installer:\n",
      "- download the Mac OS X 64-bit/32-bit installer DMG file,\n",
      "- double click to open it,\n",
      "- double click Python.mpkg to run the installer.\n",
      "\n",
      "Verify the installation was successful by opening the Terminal application and running the python3 command:\n",
      "```\n",
      "$ python3 --version\n",
      "Python 3.4.1\n",
      "```"
     ]
    }
   ],
   "metadata": {}
  }
 ]
}
