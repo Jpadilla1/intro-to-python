{
 "metadata": {
  "name": "",
  "signature": "sha256:f37b105c5e429feb6bdac24d25a26ff79e35b74f141c3e312cbdfba496268ab9"
 },
 "nbformat": 3,
 "nbformat_minor": 0,
 "worksheets": [
  {
   "cells": [
    {
     "cell_type": "markdown",
     "metadata": {},
     "source": [
      "Let's learn more cool Python stuff."
     ]
    },
    {
     "cell_type": "markdown",
     "metadata": {},
     "source": [
      "## List Comprehensions\n",
      "\n",
      "Now we're going to learn about list comprehensions.\n",
      "\n",
      "A list comprehension is kind of like an inside-out for loop.  It makes it easy to do operations on elements in a list and return a new list."
     ]
    },
    {
     "cell_type": "markdown",
     "metadata": {},
     "source": [
      "Say we have a list of numbers:"
     ]
    },
    {
     "cell_type": "code",
     "collapsed": false,
     "input": [
      "my_favorite_numbers = [1, 1, 2, 3, 5, 8, 13, 21, 34, 55, 89]"
     ],
     "language": "python",
     "metadata": {},
     "outputs": [],
     "prompt_number": 1
    },
    {
     "cell_type": "markdown",
     "metadata": {},
     "source": [
      "Now let's make a new list that contains a square of every number in our list."
     ]
    },
    {
     "cell_type": "code",
     "collapsed": false,
     "input": [
      "squared_numbers = []\n",
      "for n in my_favorite_numbers:\n",
      "    squared_numbers.append(n * n)"
     ],
     "language": "python",
     "metadata": {},
     "outputs": [],
     "prompt_number": 2
    },
    {
     "cell_type": "code",
     "collapsed": false,
     "input": [
      "squared_numbers"
     ],
     "language": "python",
     "metadata": {},
     "outputs": [
      {
       "metadata": {},
       "output_type": "pyout",
       "prompt_number": 3,
       "text": [
        "[1, 1, 4, 9, 25, 64, 169, 441, 1156, 3025, 7921]"
       ]
      }
     ],
     "prompt_number": 3
    },
    {
     "cell_type": "markdown",
     "metadata": {},
     "source": [
      "**Stop for questions?:** Does this look familiar?  Any questions about this?"
     ]
    },
    {
     "cell_type": "markdown",
     "metadata": {},
     "source": [
      "Now let's do the same thing with a list comprehension:"
     ]
    },
    {
     "cell_type": "code",
     "collapsed": false,
     "input": [
      "squared_numbers = [n * n for n in my_favorite_numbers]"
     ],
     "language": "python",
     "metadata": {},
     "outputs": [],
     "prompt_number": 4
    },
    {
     "cell_type": "code",
     "collapsed": false,
     "input": [
      "squared_numbers"
     ],
     "language": "python",
     "metadata": {},
     "outputs": [
      {
       "metadata": {},
       "output_type": "pyout",
       "prompt_number": 5,
       "text": [
        "[1, 1, 4, 9, 25, 64, 169, 441, 1156, 3025, 7921]"
       ]
      }
     ],
     "prompt_number": 5
    },
    {
     "cell_type": "markdown",
     "metadata": {},
     "source": [
      "Let's revisit a problem we've already solved:\n",
      "\n",
      "Pick every name from a list that begins with a vowel.\n",
      "\n",
      "We started with a list of names first:"
     ]
    },
    {
     "cell_type": "code",
     "collapsed": false,
     "input": [
      "names = [\"Alice\", \"Bob\", \"Cassie\", \"Diane\", \"Ellen\"]"
     ],
     "language": "python",
     "metadata": {},
     "outputs": [],
     "prompt_number": 6
    },
    {
     "cell_type": "markdown",
     "metadata": {},
     "source": [
      "Then we filtered names like this:"
     ]
    },
    {
     "cell_type": "code",
     "collapsed": false,
     "input": [
      "vowel_names = []\n",
      "for name in names:\n",
      "    if name[0] in \"AEIOU\":\n",
      "        vowel_names.append(name)"
     ],
     "language": "python",
     "metadata": {},
     "outputs": [],
     "prompt_number": 7
    },
    {
     "cell_type": "markdown",
     "metadata": {},
     "source": [
      "Here's another way to grab all names starting with a vowel, using list comprehensions:"
     ]
    },
    {
     "cell_type": "code",
     "collapsed": false,
     "input": [
      "vowel_names = [name for name in names if name[0] in \"AEIOU\"]"
     ],
     "language": "python",
     "metadata": {},
     "outputs": [],
     "prompt_number": 8
    },
    {
     "cell_type": "code",
     "collapsed": false,
     "input": [
      "vowel_names"
     ],
     "language": "python",
     "metadata": {},
     "outputs": [
      {
       "metadata": {},
       "output_type": "pyout",
       "prompt_number": 9,
       "text": [
        "['Alice', 'Ellen']"
       ]
      }
     ],
     "prompt_number": 9
    },
    {
     "cell_type": "markdown",
     "metadata": {},
     "source": [
      "## Dictionaries\n",
      "\n",
      "Unlike lists, dictionaries are indexed by keys.  Dictionaries can be used to represent unordered key-value pairs.  Keys are used for lookup and their values are returned.\n",
      "\n",
      "Let's make an Spanish to English translator.  We'll ignore grammar and just translate word-by-word for now."
     ]
    },
    {
     "cell_type": "code",
     "collapsed": false,
     "input": [
      "words = {\n",
      "    'gato': \"cat\",\n",
      "    'casa': \"house\",\n",
      "    'esta': \"is\",\n",
      "    'en': \"in\",\n",
      "    'el': \"the\",\n",
      "    'la': \"the\",\n",
      "}"
     ],
     "language": "python",
     "metadata": {},
     "outputs": [],
     "prompt_number": 10
    },
    {
     "cell_type": "code",
     "collapsed": false,
     "input": [
      "words['gato']"
     ],
     "language": "python",
     "metadata": {},
     "outputs": [
      {
       "metadata": {},
       "output_type": "pyout",
       "prompt_number": 11,
       "text": [
        "'cat'"
       ]
      }
     ],
     "prompt_number": 11
    },
    {
     "cell_type": "markdown",
     "metadata": {},
     "source": [
      "Strings have a split method which we can use to split strings with spaces into a list of words."
     ]
    },
    {
     "cell_type": "code",
     "collapsed": false,
     "input": [
      "sentence = \"el gato esta en la casa\"\n",
      "sentence_words = sentence.split()\n",
      "sentence_words"
     ],
     "language": "python",
     "metadata": {},
     "outputs": [
      {
       "metadata": {},
       "output_type": "pyout",
       "prompt_number": 12,
       "text": [
        "['el', 'gato', 'esta', 'en', 'la', 'casa']"
       ]
      }
     ],
     "prompt_number": 12
    },
    {
     "cell_type": "markdown",
     "metadata": {},
     "source": [
      "Let's loop over each word in the list and translate each one."
     ]
    },
    {
     "cell_type": "code",
     "collapsed": false,
     "input": [
      "for spanish_word in sentence_words:\n",
      "    print(words[spanish_word])"
     ],
     "language": "python",
     "metadata": {},
     "outputs": [
      {
       "output_type": "stream",
       "stream": "stdout",
       "text": [
        "the\n",
        "cat\n",
        "is\n",
        "in\n",
        "the\n",
        "house\n"
       ]
      }
     ],
     "prompt_number": 13
    },
    {
     "cell_type": "markdown",
     "metadata": {},
     "source": [
      "Now let's make a list from the translated words."
     ]
    },
    {
     "cell_type": "code",
     "collapsed": false,
     "input": [
      "translated_words = []\n",
      "for spanish_word in sentence_words:\n",
      "    translated_words.append(words[spanish_word])\n",
      "\n",
      "translated_words"
     ],
     "language": "python",
     "metadata": {},
     "outputs": [
      {
       "metadata": {},
       "output_type": "pyout",
       "prompt_number": 14,
       "text": [
        "['the', 'cat', 'is', 'in', 'the', 'house']"
       ]
      }
     ],
     "prompt_number": 14
    },
    {
     "cell_type": "markdown",
     "metadata": {},
     "source": [
      "We've almost made a translated sentence!  Let's join our new list of words back together with spaces in between each word."
     ]
    },
    {
     "cell_type": "code",
     "collapsed": false,
     "input": [
      "translated_sentence = \" \".join(translated_words)\n",
      "translated_sentence"
     ],
     "language": "python",
     "metadata": {},
     "outputs": [
      {
       "metadata": {},
       "output_type": "pyout",
       "prompt_number": 15,
       "text": [
        "'the cat is in the house'"
       ]
      }
     ],
     "prompt_number": 15
    },
    {
     "cell_type": "markdown",
     "metadata": {},
     "source": [
      "Let's put this all together into a function:"
     ]
    },
    {
     "cell_type": "code",
     "collapsed": false,
     "input": [
      "words = {\n",
      "    'gato': \"cat\",\n",
      "    'perro': \"dog\",\n",
      "    'casa': \"house\",\n",
      "    'burrito': \"burrito\",\n",
      "    'verde': \"green\",\n",
      "    'comio': \"ate\",\n",
      "    'esta': \"is\",\n",
      "    'en': \"in\",\n",
      "    'el': \"the\",\n",
      "    'la': \"the\",\n",
      "}\n",
      "\n",
      "def translate(sentence):\n",
      "    spanish_words = sentence.split()\n",
      "    english_words = []\n",
      "    for w in spanish_words:\n",
      "        english_words.append(words[w])\n",
      "    return \" \".join(english_words)"
     ],
     "language": "python",
     "metadata": {},
     "outputs": [],
     "prompt_number": 16
    },
    {
     "cell_type": "code",
     "collapsed": false,
     "input": [
      "translate(\"el perro comio el burrito verde\")"
     ],
     "language": "python",
     "metadata": {},
     "outputs": [
      {
       "metadata": {},
       "output_type": "pyout",
       "prompt_number": 17,
       "text": [
        "'the dog ate the burrito green'"
       ]
      }
     ],
     "prompt_number": 17
    },
    {
     "cell_type": "code",
     "collapsed": false,
     "input": [
      "translate(\"el burrito comio el perro verde\")"
     ],
     "language": "python",
     "metadata": {},
     "outputs": [
      {
       "metadata": {},
       "output_type": "pyout",
       "prompt_number": 18,
       "text": [
        "'the burrito ate the dog green'"
       ]
      }
     ],
     "prompt_number": 18
    },
    {
     "cell_type": "code",
     "collapsed": false,
     "input": [
      "translate(\"el gato comio la casa\")"
     ],
     "language": "python",
     "metadata": {},
     "outputs": [
      {
       "metadata": {},
       "output_type": "pyout",
       "prompt_number": 19,
       "text": [
        "'the cat ate the house'"
       ]
      }
     ],
     "prompt_number": 19
    }
   ],
   "metadata": {}
  }
 ]
}