{
 "metadata": {
  "name": "",
  "signature": "sha256:128c8fe150d3130a1c9098424e0bd5dc7b7f585570ac4626dda0d8b2b08e80c4"
 },
 "nbformat": 3,
 "nbformat_minor": 0,
 "worksheets": [
  {
   "cells": [
    {
     "cell_type": "markdown",
     "metadata": {},
     "source": [
      "Let's learn more cool Python stuff."
     ]
    },
    {
     "cell_type": "markdown",
     "metadata": {},
     "source": [
      "**List Comprehensions**\n",
      "\n",
      "Now we're going to learn about list comprehensions.\n",
      "\n",
      "A list comprehension is kind of like an inside-out for loop.  It makes it easy to do operations on elements in a list and return a new list."
     ]
    },
    {
     "cell_type": "markdown",
     "metadata": {},
     "source": [
      "Say we have a list of numbers:"
     ]
    },
    {
     "cell_type": "code",
     "collapsed": false,
     "input": [
      "my_favorite_numbers = [1, 1, 2, 3, 5, 8, 13, 21, 34, 55, 89]"
     ],
     "language": "python",
     "metadata": {},
     "outputs": [],
     "prompt_number": 10
    },
    {
     "cell_type": "markdown",
     "metadata": {},
     "source": [
      "Now let's make a new list that contains a square of every number in our list."
     ]
    },
    {
     "cell_type": "code",
     "collapsed": false,
     "input": [
      "squared_numbers = []\n",
      "for n in my_favorite_numbers:\n",
      "    squared_numbers.append(n * n)"
     ],
     "language": "python",
     "metadata": {},
     "outputs": [],
     "prompt_number": 19
    },
    {
     "cell_type": "code",
     "collapsed": false,
     "input": [
      "squared_numbers"
     ],
     "language": "python",
     "metadata": {},
     "outputs": [
      {
       "metadata": {},
       "output_type": "pyout",
       "prompt_number": 20,
       "text": [
        "[1, 1, 4, 9, 25, 64, 169, 441, 1156, 3025, 7921]"
       ]
      }
     ],
     "prompt_number": 20
    },
    {
     "cell_type": "markdown",
     "metadata": {},
     "source": [
      "**Stop for questions?:** Does this look familiar?  Any questions about this?"
     ]
    },
    {
     "cell_type": "markdown",
     "metadata": {},
     "source": [
      "Now let's do the same thing with a list comprehension:"
     ]
    },
    {
     "cell_type": "code",
     "collapsed": false,
     "input": [
      "squared_numbers = [n * n for n in my_favorite_numbers]"
     ],
     "language": "python",
     "metadata": {},
     "outputs": [],
     "prompt_number": 21
    },
    {
     "cell_type": "code",
     "collapsed": false,
     "input": [
      "squared_numbers"
     ],
     "language": "python",
     "metadata": {},
     "outputs": [
      {
       "metadata": {},
       "output_type": "pyout",
       "prompt_number": 22,
       "text": [
        "[1, 1, 4, 9, 25, 64, 169, 441, 1156, 3025, 7921]"
       ]
      }
     ],
     "prompt_number": 22
    },
    {
     "cell_type": "markdown",
     "metadata": {},
     "source": [
      "Let's revisit a problem we've already solved:\n",
      "\n",
      "Pick every name from a list that begins with a vowel.\n",
      "\n",
      "We started with a list of names first:"
     ]
    },
    {
     "cell_type": "code",
     "collapsed": false,
     "input": [
      "names = [\"Alice\", \"Bob\", \"Cassie\", \"Diane\", \"Ellen\"]"
     ],
     "language": "python",
     "metadata": {},
     "outputs": [],
     "prompt_number": 2
    },
    {
     "cell_type": "markdown",
     "metadata": {},
     "source": [
      "Then we filtered names like this:"
     ]
    },
    {
     "cell_type": "code",
     "collapsed": false,
     "input": [
      "vowel_names = []\n",
      "for name in names:\n",
      "    if name[0] in \"AEIOU\":\n",
      "        vowel_names.append(name)"
     ],
     "language": "python",
     "metadata": {},
     "outputs": [],
     "prompt_number": 3
    },
    {
     "cell_type": "markdown",
     "metadata": {},
     "source": [
      "Here's another way to grab all names starting with a vowel, using list comprehensions:"
     ]
    },
    {
     "cell_type": "code",
     "collapsed": false,
     "input": [
      "vowel_names = [name for name in names if name[0] in \"AEIOU\"]"
     ],
     "language": "python",
     "metadata": {},
     "outputs": [],
     "prompt_number": 5
    },
    {
     "cell_type": "code",
     "collapsed": false,
     "input": [
      "vowel_names"
     ],
     "language": "python",
     "metadata": {},
     "outputs": []
    }
   ],
   "metadata": {}
  }
 ]
}