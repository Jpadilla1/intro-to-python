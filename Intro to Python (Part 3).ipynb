{
 "metadata": {
  "name": "",
  "signature": "sha256:1e0e97ccc3477659a23058910f4a631aa3ab15b730f3ddb6dedd7550f4e2439a"
 },
 "nbformat": 3,
 "nbformat_minor": 0,
 "worksheets": [
  {
   "cells": [
    {
     "cell_type": "markdown",
     "metadata": {},
     "source": [
      "Introductions: Hi, I'm .... I'll be co-facilitating 'Programming with Python' with [our mentors names] and [our volunteers names]. If you would like to follow along and type in some of the snippets of code that we demo, our volunteers can assist you in setting up your computer. "
     ]
    },
    {
     "cell_type": "markdown",
     "metadata": {},
     "source": [
      "Let's begin by giving a quick recap on what we did in the earlier workshops today. In the first workshop we learned about numbers, variables, strings, booleans, and making choices with the use of if-statements. In the second workshop we added lists and looping to our skills. Along the way we used a few functions, such as the built-in functions, print() and len()."
     ]
    },
    {
     "cell_type": "markdown",
     "metadata": {},
     "source": [
      "In this workshop, we're going to go a little further in depth into functions and Python modules."
     ]
    },
    {
     "cell_type": "heading",
     "level": 2,
     "metadata": {},
     "source": [
      "Functions"
     ]
    },
    {
     "cell_type": "markdown",
     "metadata": {},
     "source": [
      "We have already seen a few functions (recall len() for calculating list and string lengths and sum() for summing lists).\n",
      "\n",
      "Python also lets us make our own functions.\n",
      "\n",
      "We can use functions for a number of things:\n",
      "- We can use functions to break down a problem into parts. It makes the code more readable and is easier to understand. This is called 'program decomposition' or 'factoring'.\n",
      "- Functions can also be used instead of using the same lines of code at different times throughout a program. We call this 'code reuse' and what it does is simply reduce duplication of code.\n",
      "- We can also use functions for 'abstraction' or 'simplification'. Using functions allows us to hide all of the details involved and put them into one place and simply call the function to execute the lines of code."
     ]
    },
    {
     "cell_type": "markdown",
     "metadata": {},
     "source": [
      "Let's start with an example.  Say we have a program that wishes someone a happy birthday:"
     ]
    },
    {
     "cell_type": "code",
     "collapsed": false,
     "input": [
      "print(\"Happy Birthday to you,\")\n",
      "print(\"Happy Birthday to you,\")\n",
      "print(\"Happy Birthday, dear Jessica!\")\n",
      "print(\"Happy Birthday to you!\")"
     ],
     "language": "python",
     "metadata": {},
     "outputs": []
    },
    {
     "cell_type": "markdown",
     "metadata": {},
     "source": [
      "We can make this code into a function like so. Let's take a quick look at what we have here."
     ]
    },
    {
     "cell_type": "code",
     "collapsed": false,
     "input": [
      "def happy_birthday_jessica():\n",
      "    print(\"Happy Birthday to you,\")\n",
      "    print(\"Happy Birthday to you,\")\n",
      "    print(\"Happy Birthday, dear Jessica!\")\n",
      "    print(\"Happy Birthday to you!\")"
     ],
     "language": "python",
     "metadata": {},
     "outputs": []
    },
    {
     "cell_type": "markdown",
     "metadata": {},
     "source": [
      "The top part is called the 'header' of the function. The header contains the keyword, 'def', the name of the function, a parameter, and a colon.\n",
      "\n",
      "The keyword 'def' is short for 'define', and it's how we let Python know that we are creating, that is, defining our new function. \n",
      "\n",
      "The name of our function is 'happy_birthday_jessica'. It has 0 parameters. \n",
      "\n",
      "The body of our function contains four print lines. We need to indent these lines, and any other lines of code in function's body, by 4 spaces.\n",
      "\n",
      "Notice that nothing was printed out after we defined our function.  To use our function we need to call it, like this:"
     ]
    },
    {
     "cell_type": "code",
     "collapsed": false,
     "input": [
      "happy_birthday_jessica()"
     ],
     "language": "python",
     "metadata": {},
     "outputs": []
    },
    {
     "cell_type": "markdown",
     "metadata": {},
     "source": [
      "Don't forget those parenthesis.  Without the parenthesis Python wouldn't know we were trying to call our function, it would just give us the value. "
     ]
    },
    {
     "cell_type": "code",
     "collapsed": false,
     "input": [
      "happy_birthday_jessica"
     ],
     "language": "python",
     "metadata": {},
     "outputs": []
    },
    {
     "cell_type": "markdown",
     "metadata": {},
     "source": [
      "We can create a slew of functions named in a similar fashion:"
     ]
    },
    {
     "cell_type": "code",
     "collapsed": false,
     "input": [
      "def happy_birthday_rise():\n",
      "    print(\"Happy Birthday to you,\")\n",
      "    print(\"Happy Birthday to you,\")\n",
      "    print(\"Happy Birthday, dear Rise!\")\n",
      "    print(\"Happy Birthday to you!\")"
     ],
     "language": "python",
     "metadata": {},
     "outputs": []
    },
    {
     "cell_type": "markdown",
     "metadata": {},
     "source": [
      "We can call each of these functions like so: **(Trey) Remember that we have to type all this in the shell line-by-line**"
     ]
    },
    {
     "cell_type": "code",
     "collapsed": false,
     "input": [
      "happy_birthday_jessica()"
     ],
     "language": "python",
     "metadata": {},
     "outputs": []
    },
    {
     "cell_type": "code",
     "collapsed": false,
     "input": [
      "happy_birthday_rise()"
     ],
     "language": "python",
     "metadata": {},
     "outputs": []
    },
    {
     "cell_type": "markdown",
     "metadata": {},
     "source": [
      "We can even group those calls to each function into a main() function and just call main() which will then call each of our functions!\n",
      "\n",
      "**(Trey) I think this main function part is confusing.  I'm not sure it would translate well to the shell  I vote for removing it**"
     ]
    },
    {
     "cell_type": "code",
     "collapsed": false,
     "input": [
      "def happy_birthday_jessica():\n",
      "    print(\"Happy Birthday to you,\")\n",
      "    print(\"Happy Birthday to you,\")\n",
      "    print(\"Happy Birthday, dear Jessica!\")\n",
      "    print(\"Happy Birthday to you!\")\n",
      "\n",
      "def happy_birthday_rise():\n",
      "    print(\"Happy Birthday to you,\")\n",
      "    print(\"Happy Birthday to you,\")\n",
      "    print(\"Happy Birthday, dear Rise!\")\n",
      "    print(\"Happy Birthday to you!\")\n",
      "\n",
      "def main():\n",
      "    happy_birthday_jessica()\n",
      "    happy_birthday_rise()\n",
      "\n",
      "main()"
     ],
     "language": "python",
     "metadata": {},
     "outputs": []
    },
    {
     "cell_type": "markdown",
     "metadata": {},
     "source": [
      "Ok, now, let's work on reusing our code so that we reduce code duplication.\n",
      "\n",
      "Wouldn't it be cool if we could pass a name into our function so we don't need to write a different function for every name?\n",
      "\n",
      "Python allows us to do just that with function parameters.  We can add a parameter by typing a variable name in between the parethesis after our function name.  We can then use the parameter variable in our function.\n",
      "\n",
      "We'll create a new function called 'happy_birthday', and add a parameter, 'name'."
     ]
    },
    {
     "cell_type": "code",
     "collapsed": false,
     "input": [
      "def happy_birthday(name):\n",
      "    print(\"Happy Birthday to you,\")\n",
      "    print(\"Happy Birthday to you,\")\n",
      "    print(\"Happy Birthday, dear \" + name + \"!\")\n",
      "    print(\"Happy Birthday to you!\")"
     ],
     "language": "python",
     "metadata": {},
     "outputs": []
    },
    {
     "cell_type": "markdown",
     "metadata": {},
     "source": [
      "To execute or run our new function, we simply call it by its name, 'happy_birthday' and pass a value in between the parenthesis, such as the string, 'Trey'."
     ]
    },
    {
     "cell_type": "code",
     "collapsed": false,
     "input": [
      "happy_birthday(\"Trey\")"
     ],
     "language": "python",
     "metadata": {},
     "outputs": []
    },
    {
     "cell_type": "markdown",
     "metadata": {},
     "source": [
      "Let's get a little bolder and make a list of names that we can loop over and then pass each one into our 'happy_birthday' function. What we get is the same result as the other earlier lines of code!"
     ]
    },
    {
     "cell_type": "code",
     "collapsed": false,
     "input": [
      "names = [\"Jessica\", \"Rise\", \"Trey\"]\n",
      "for name in names:\n",
      "    happy_birthday(name)"
     ],
     "language": "python",
     "metadata": {},
     "outputs": []
    },
    {
     "cell_type": "markdown",
     "metadata": {},
     "source": [
      "A function can take more than one parameter (2, 3, or more)"
     ]
    },
    {
     "cell_type": "markdown",
     "metadata": {},
     "source": [
      "So let's change our function, happy_birthday, by giving it two parameters, 'first_name' and 'last_name'."
     ]
    },
    {
     "cell_type": "code",
     "collapsed": false,
     "input": [
      "def happy_birthday(first_name, last_name):   # Our new function has two parameters\n",
      "    print(\"Happy Birthday to you,\")\n",
      "    print(\"Happy Birthday to you,\")\n",
      "    print(\"Happy Birthday, dear \" + first_name + \" \" + last_name + \"!\")\n",
      "    print(\"Happy Birthday to you!\")"
     ],
     "language": "python",
     "metadata": {},
     "outputs": []
    },
    {
     "cell_type": "markdown",
     "metadata": {},
     "source": [
      "So let's see what happens if we give our function two string values, one for 'first_name' and another for 'last_name'."
     ]
    },
    {
     "cell_type": "code",
     "collapsed": false,
     "input": [
      "happy_birthday(\"Rise\", \"Riyo\")"
     ],
     "language": "python",
     "metadata": {},
     "outputs": []
    },
    {
     "cell_type": "markdown",
     "metadata": {},
     "source": [
      "We could also pass in variables as parameter values to the function. Let's assign the string, \"Alain\" to the variable, 'first', and the string, \"Domissy\" to the variable, 'last'."
     ]
    },
    {
     "cell_type": "code",
     "collapsed": false,
     "input": [
      "first = \"Alain\"\n",
      "last = \"Domissy\"\n",
      "# Now we will pass these variables to our function\n",
      "happy_birthday(first, last)"
     ],
     "language": "python",
     "metadata": {},
     "outputs": []
    },
    {
     "cell_type": "markdown",
     "metadata": {},
     "source": [
      "Here we have a new function, 'how_many_cupcakes_to_make'. We are going to pass it one value to its parameter, 'num_of_cupcakes'. We'll have it calculate the number of cupcakes, and then return this value and print it out."
     ]
    },
    {
     "cell_type": "code",
     "collapsed": false,
     "input": [
      "def how_many_cupcakes_to_make(num_of_cupcakes):\n",
      "    # Multiply the number of cupcakes by 2\n",
      "    return 2 * num_of_cupcakes\n",
      "\n",
      "print how_many_cupcakes_to_make(15)"
     ],
     "language": "python",
     "metadata": {},
     "outputs": [
      {
       "output_type": "stream",
       "stream": "stdout",
       "text": [
        "30\n"
       ]
      }
     ],
     "prompt_number": 75
    },
    {
     "cell_type": "code",
     "collapsed": false,
     "input": [
      "number_of_guests = 20\n",
      "number_of_cupcakes = 2\n",
      "print flooring_area(kitchen_width, kitchen_length)"
     ],
     "language": "python",
     "metadata": {},
     "outputs": []
    },
    {
     "cell_type": "markdown",
     "metadata": {},
     "source": [
      "So now we have two functions: one called 'myfunction' and the other called 'flooring_area'. Let's be lazy... Let's execute those two functions by calling them within a new function called 'ee"
     ]
    },
    {
     "cell_type": "code",
     "collapsed": false,
     "input": [
      "def execute_our_two_functions():\n",
      "    myfunction(\"Carol\",\"Willing\")\n",
      "    print flooring_area(20,30)"
     ],
     "language": "python",
     "metadata": {},
     "outputs": []
    },
    {
     "cell_type": "markdown",
     "metadata": {},
     "source": [
      "*Do we want to introduce functions with positional and keyword arguments?"
     ]
    },
    {
     "cell_type": "heading",
     "level": 2,
     "metadata": {},
     "source": [
      "Modules"
     ]
    },
    {
     "cell_type": "markdown",
     "metadata": {},
     "source": [
      "Modules are used to make a programmer's life easier. A module is used to group functions, variables, and other things together in an understandable bundle.\n",
      "\n",
      "Python comes with lots of modules built-in.  For example there's a random module for generating randomnes.  Let's import it so we can use some of its functions:"
     ]
    },
    {
     "cell_type": "code",
     "collapsed": false,
     "input": [
      "import random"
     ],
     "language": "python",
     "metadata": {},
     "outputs": []
    },
    {
     "cell_type": "markdown",
     "metadata": {},
     "source": [
      "The random module has a randint function which takes two parameters.  randint will return a random integer in between (or including) the two parameters.  For example we can generate a random number between 1 and 6."
     ]
    },
    {
     "cell_type": "code",
     "collapsed": false,
     "input": [
      "random.randint(1, 6)\n"
     ],
     "language": "python",
     "metadata": {},
     "outputs": []
    },
    {
     "cell_type": "markdown",
     "metadata": {},
     "source": [
      "Let's use the random integer function to simulate rolling a die in a game"
     ]
    },
    {
     "cell_type": "code",
     "collapsed": false,
     "input": [
      "vegas_die_1 = random.randint(1, 6)\n",
      "vegas_die_2 = random.randint(1, 6)\n",
      "print (\"First die: \" + str(vegas_die_1))\n",
      "print (\"Second die: \" + str(vegas_die_2))\n",
      "print (\"You rolled a \" + str(vegas_die_1 + vegas_die_2))"
     ],
     "language": "python",
     "metadata": {},
     "outputs": []
    },
    {
     "cell_type": "markdown",
     "metadata": {},
     "source": [
      "choice is a function in the random module that returns a random item from a given list or string"
     ]
    },
    {
     "cell_type": "code",
     "collapsed": false,
     "input": [
      "random.choice('abcdefghijklmnopqrstuvwxyz')"
     ],
     "language": "python",
     "metadata": {},
     "outputs": []
    },
    {
     "cell_type": "markdown",
     "metadata": {},
     "source": [
      "We could use random.choice to wish happy birthday to a random friend."
     ]
    },
    {
     "cell_type": "markdown",
     "metadata": {},
     "source": [
      "Let's make a function random_happy_birthday that takes a list of names and wishes a random person happy birthday"
     ]
    },
    {
     "cell_type": "code",
     "collapsed": false,
     "input": [
      "def random_happy_birthday(names):\n",
      "    name = random.choice(names)\n",
      "    happy_birthday(name)"
     ],
     "language": "python",
     "metadata": {},
     "outputs": []
    },
    {
     "cell_type": "markdown",
     "metadata": {},
     "source": [
      "Now let's try it out with a list of names:"
     ]
    },
    {
     "cell_type": "code",
     "collapsed": false,
     "input": [
      "random_happy_birthday([\"Alain\", \"Carol\", \"Rise\", \"Trey\"])"
     ],
     "language": "python",
     "metadata": {},
     "outputs": []
    },
    {
     "cell_type": "markdown",
     "metadata": {},
     "source": [
      "Modules and functions can make things really simple to do. For example we could in a few lines of code get and display a YouTube video"
     ]
    },
    {
     "cell_type": "code",
     "collapsed": false,
     "input": [
      "from IPython.display import YouTubeVideo\n",
      "# a tutorial about Python at PyCon 2014 in Montreal, Canada by Jessica McKellar\n",
      "YouTubeVideo('MirG-vJOg04')"
     ],
     "language": "python",
     "metadata": {},
     "outputs": []
    }
   ],
   "metadata": {}
  }
 ]
}